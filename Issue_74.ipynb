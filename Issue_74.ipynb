{
 "cells": [
  {
   "cell_type": "code",
   "execution_count": 114,
   "id": "8d8b2465-e3d6-4535-96df-114817d844e7",
   "metadata": {},
   "outputs": [],
   "source": [
    "import numpy as np\n",
    "import pandas as pd\n",
    "import matplotlib.pyplot as plt "
   ]
  },
  {
   "cell_type": "code",
   "execution_count": 115,
   "id": "15a96002-eab3-44c0-a631-62b4f1b4a2bc",
   "metadata": {},
   "outputs": [],
   "source": [
    "data=pd.read_csv('contests.csv', encoding='latin-1')"
   ]
  },
  {
   "cell_type": "code",
   "execution_count": 116,
   "id": "e5e4a096-c7af-4081-adb4-64a9ea743ff0",
   "metadata": {},
   "outputs": [
    {
     "data": {
      "text/html": [
       "<div>\n",
       "<style scoped>\n",
       "    .dataframe tbody tr th:only-of-type {\n",
       "        vertical-align: middle;\n",
       "    }\n",
       "\n",
       "    .dataframe tbody tr th {\n",
       "        vertical-align: top;\n",
       "    }\n",
       "\n",
       "    .dataframe thead th {\n",
       "        text-align: right;\n",
       "    }\n",
       "</style>\n",
       "<table border=\"1\" class=\"dataframe\">\n",
       "  <thead>\n",
       "    <tr style=\"text-align: right;\">\n",
       "      <th></th>\n",
       "      <th>userid</th>\n",
       "      <th>rank-type</th>\n",
       "      <th>contest1</th>\n",
       "      <th>contest2</th>\n",
       "      <th>contest3</th>\n",
       "      <th>contest4</th>\n",
       "      <th>contest5</th>\n",
       "      <th>contest6</th>\n",
       "      <th>contest7</th>\n",
       "      <th>contest8</th>\n",
       "      <th>contest9</th>\n",
       "      <th>contest10</th>\n",
       "    </tr>\n",
       "  </thead>\n",
       "  <tbody>\n",
       "    <tr>\n",
       "      <th>0</th>\n",
       "      <td>3143927301</td>\n",
       "      <td>Candidate Master</td>\n",
       "      <td>2078</td>\n",
       "      <td>2055</td>\n",
       "      <td>2115</td>\n",
       "      <td>2047.0</td>\n",
       "      <td>2024.0</td>\n",
       "      <td>2010.0</td>\n",
       "      <td>1953.0</td>\n",
       "      <td>1936.0</td>\n",
       "      <td>2042.0</td>\n",
       "      <td>2045.0</td>\n",
       "    </tr>\n",
       "    <tr>\n",
       "      <th>1</th>\n",
       "      <td>1876577621</td>\n",
       "      <td>Master</td>\n",
       "      <td>2194</td>\n",
       "      <td>2114</td>\n",
       "      <td>2152</td>\n",
       "      <td>2179.0</td>\n",
       "      <td>2211.0</td>\n",
       "      <td>2154.0</td>\n",
       "      <td>2170.0</td>\n",
       "      <td>2141.0</td>\n",
       "      <td>2157.0</td>\n",
       "      <td>2209.0</td>\n",
       "    </tr>\n",
       "    <tr>\n",
       "      <th>2</th>\n",
       "      <td>6397741793</td>\n",
       "      <td>Master</td>\n",
       "      <td>2120</td>\n",
       "      <td>2206</td>\n",
       "      <td>2147</td>\n",
       "      <td>2234.0</td>\n",
       "      <td>2294.0</td>\n",
       "      <td>2090.0</td>\n",
       "      <td>2089.0</td>\n",
       "      <td>2072.0</td>\n",
       "      <td>2085.0</td>\n",
       "      <td>2114.0</td>\n",
       "    </tr>\n",
       "    <tr>\n",
       "      <th>3</th>\n",
       "      <td>3090123616</td>\n",
       "      <td>Master</td>\n",
       "      <td>2224</td>\n",
       "      <td>2222</td>\n",
       "      <td>2166</td>\n",
       "      <td>2116.0</td>\n",
       "      <td>2029.0</td>\n",
       "      <td>2113.0</td>\n",
       "      <td>2104.0</td>\n",
       "      <td>2096.0</td>\n",
       "      <td>2115.0</td>\n",
       "      <td>2163.0</td>\n",
       "    </tr>\n",
       "    <tr>\n",
       "      <th>4</th>\n",
       "      <td>9564162806</td>\n",
       "      <td>Master</td>\n",
       "      <td>2128</td>\n",
       "      <td>2120</td>\n",
       "      <td>2072</td>\n",
       "      <td>2018.0</td>\n",
       "      <td>1963.0</td>\n",
       "      <td>2039.0</td>\n",
       "      <td>1932.0</td>\n",
       "      <td>1963.0</td>\n",
       "      <td>1960.0</td>\n",
       "      <td>1886.0</td>\n",
       "    </tr>\n",
       "  </tbody>\n",
       "</table>\n",
       "</div>"
      ],
      "text/plain": [
       "       userid          rank-type  contest1  contest2  contest3  contest4  \\\n",
       "0  3143927301  Candidate Master       2078      2055      2115    2047.0   \n",
       "1  1876577621            Master       2194      2114      2152    2179.0   \n",
       "2  6397741793            Master       2120      2206      2147    2234.0   \n",
       "3  3090123616            Master       2224      2222      2166    2116.0   \n",
       "4  9564162806            Master       2128      2120      2072    2018.0   \n",
       "\n",
       "   contest5  contest6  contest7  contest8  contest9  contest10  \n",
       "0    2024.0    2010.0    1953.0    1936.0    2042.0     2045.0  \n",
       "1    2211.0    2154.0    2170.0    2141.0    2157.0     2209.0  \n",
       "2    2294.0    2090.0    2089.0    2072.0    2085.0     2114.0  \n",
       "3    2029.0    2113.0    2104.0    2096.0    2115.0     2163.0  \n",
       "4    1963.0    2039.0    1932.0    1963.0    1960.0     1886.0  "
      ]
     },
     "execution_count": 116,
     "metadata": {},
     "output_type": "execute_result"
    }
   ],
   "source": [
    "data.head()"
   ]
  },
  {
   "cell_type": "code",
   "execution_count": 117,
   "id": "c521af4e-d270-4199-bb18-a33f20028e23",
   "metadata": {},
   "outputs": [
    {
     "data": {
      "text/plain": [
       "(1423, 12)"
      ]
     },
     "execution_count": 117,
     "metadata": {},
     "output_type": "execute_result"
    }
   ],
   "source": [
    "data.shape"
   ]
  },
  {
   "cell_type": "code",
   "execution_count": 118,
   "id": "6d5616fa-412d-4e9a-953b-6a88f12ee8a0",
   "metadata": {},
   "outputs": [
    {
     "data": {
      "text/plain": [
       "userid         0\n",
       "rank-type      0\n",
       "contest1       0\n",
       "contest2       0\n",
       "contest3       0\n",
       "contest4       1\n",
       "contest5      19\n",
       "contest6      49\n",
       "contest7      80\n",
       "contest8     120\n",
       "contest9     144\n",
       "contest10    171\n",
       "dtype: int64"
      ]
     },
     "execution_count": 118,
     "metadata": {},
     "output_type": "execute_result"
    }
   ],
   "source": [
    "data.isnull().sum()"
   ]
  },
  {
   "cell_type": "code",
   "execution_count": 119,
   "id": "c2a9cc98-ace6-4a48-9e48-77316186ba50",
   "metadata": {},
   "outputs": [
    {
     "name": "stdout",
     "output_type": "stream",
     "text": [
      "<class 'pandas.core.frame.DataFrame'>\n",
      "RangeIndex: 1423 entries, 0 to 1422\n",
      "Data columns (total 12 columns):\n",
      " #   Column     Non-Null Count  Dtype  \n",
      "---  ------     --------------  -----  \n",
      " 0   userid     1423 non-null   int64  \n",
      " 1   rank-type  1423 non-null   object \n",
      " 2   contest1   1423 non-null   int64  \n",
      " 3   contest2   1423 non-null   int64  \n",
      " 4   contest3   1423 non-null   int64  \n",
      " 5   contest4   1422 non-null   float64\n",
      " 6   contest5   1404 non-null   float64\n",
      " 7   contest6   1374 non-null   float64\n",
      " 8   contest7   1343 non-null   float64\n",
      " 9   contest8   1303 non-null   float64\n",
      " 10  contest9   1279 non-null   float64\n",
      " 11  contest10  1252 non-null   float64\n",
      "dtypes: float64(7), int64(4), object(1)\n",
      "memory usage: 133.5+ KB\n"
     ]
    }
   ],
   "source": [
    "data.info()"
   ]
  },
  {
   "cell_type": "code",
   "execution_count": null,
   "id": "b60e9475-b550-4912-bd04-adddad33725d",
   "metadata": {},
   "outputs": [],
   "source": [
    "data['contest4'].median()"
   ]
  },
  {
   "cell_type": "code",
   "execution_count": 120,
   "id": "322521aa-750b-4784-8326-176bb6e6041b",
   "metadata": {},
   "outputs": [
    {
     "name": "stderr",
     "output_type": "stream",
     "text": [
      "C:\\Users\\ASUS\\AppData\\Local\\Temp\\ipykernel_12912\\2452212917.py:1: FutureWarning: A value is trying to be set on a copy of a DataFrame or Series through chained assignment using an inplace method.\n",
      "The behavior will change in pandas 3.0. This inplace method will never work because the intermediate object on which we are setting values always behaves as a copy.\n",
      "\n",
      "For example, when doing 'df[col].method(value, inplace=True)', try using 'df.method({col: value}, inplace=True)' or df[col] = df[col].method(value) instead, to perform the operation inplace on the original object.\n",
      "\n",
      "\n",
      "  data['contest4'].fillna(data['contest4'].median(), inplace=True)\n",
      "C:\\Users\\ASUS\\AppData\\Local\\Temp\\ipykernel_12912\\2452212917.py:2: FutureWarning: A value is trying to be set on a copy of a DataFrame or Series through chained assignment using an inplace method.\n",
      "The behavior will change in pandas 3.0. This inplace method will never work because the intermediate object on which we are setting values always behaves as a copy.\n",
      "\n",
      "For example, when doing 'df[col].method(value, inplace=True)', try using 'df.method({col: value}, inplace=True)' or df[col] = df[col].method(value) instead, to perform the operation inplace on the original object.\n",
      "\n",
      "\n",
      "  data['contest5'].fillna(data['contest5'].median(), inplace=True)\n",
      "C:\\Users\\ASUS\\AppData\\Local\\Temp\\ipykernel_12912\\2452212917.py:3: FutureWarning: A value is trying to be set on a copy of a DataFrame or Series through chained assignment using an inplace method.\n",
      "The behavior will change in pandas 3.0. This inplace method will never work because the intermediate object on which we are setting values always behaves as a copy.\n",
      "\n",
      "For example, when doing 'df[col].method(value, inplace=True)', try using 'df.method({col: value}, inplace=True)' or df[col] = df[col].method(value) instead, to perform the operation inplace on the original object.\n",
      "\n",
      "\n",
      "  data['contest6'].fillna(data['contest6'].median(), inplace=True)\n",
      "C:\\Users\\ASUS\\AppData\\Local\\Temp\\ipykernel_12912\\2452212917.py:4: FutureWarning: A value is trying to be set on a copy of a DataFrame or Series through chained assignment using an inplace method.\n",
      "The behavior will change in pandas 3.0. This inplace method will never work because the intermediate object on which we are setting values always behaves as a copy.\n",
      "\n",
      "For example, when doing 'df[col].method(value, inplace=True)', try using 'df.method({col: value}, inplace=True)' or df[col] = df[col].method(value) instead, to perform the operation inplace on the original object.\n",
      "\n",
      "\n",
      "  data['contest7'].fillna(data['contest7'].median(), inplace=True)\n",
      "C:\\Users\\ASUS\\AppData\\Local\\Temp\\ipykernel_12912\\2452212917.py:5: FutureWarning: A value is trying to be set on a copy of a DataFrame or Series through chained assignment using an inplace method.\n",
      "The behavior will change in pandas 3.0. This inplace method will never work because the intermediate object on which we are setting values always behaves as a copy.\n",
      "\n",
      "For example, when doing 'df[col].method(value, inplace=True)', try using 'df.method({col: value}, inplace=True)' or df[col] = df[col].method(value) instead, to perform the operation inplace on the original object.\n",
      "\n",
      "\n",
      "  data['contest8'].fillna(data['contest8'].median(), inplace=True)\n",
      "C:\\Users\\ASUS\\AppData\\Local\\Temp\\ipykernel_12912\\2452212917.py:6: FutureWarning: A value is trying to be set on a copy of a DataFrame or Series through chained assignment using an inplace method.\n",
      "The behavior will change in pandas 3.0. This inplace method will never work because the intermediate object on which we are setting values always behaves as a copy.\n",
      "\n",
      "For example, when doing 'df[col].method(value, inplace=True)', try using 'df.method({col: value}, inplace=True)' or df[col] = df[col].method(value) instead, to perform the operation inplace on the original object.\n",
      "\n",
      "\n",
      "  data['contest9'].fillna(data['contest9'].median(), inplace=True)\n",
      "C:\\Users\\ASUS\\AppData\\Local\\Temp\\ipykernel_12912\\2452212917.py:7: FutureWarning: A value is trying to be set on a copy of a DataFrame or Series through chained assignment using an inplace method.\n",
      "The behavior will change in pandas 3.0. This inplace method will never work because the intermediate object on which we are setting values always behaves as a copy.\n",
      "\n",
      "For example, when doing 'df[col].method(value, inplace=True)', try using 'df.method({col: value}, inplace=True)' or df[col] = df[col].method(value) instead, to perform the operation inplace on the original object.\n",
      "\n",
      "\n",
      "  data['contest10'].fillna(data['contest10'].median(), inplace=True)\n"
     ]
    }
   ],
   "source": [
    "data['contest4'].fillna(data['contest4'].median(), inplace=True)\n",
    "data['contest5'].fillna(data['contest5'].median(), inplace=True)\n",
    "data['contest6'].fillna(data['contest6'].median(), inplace=True)\n",
    "data['contest7'].fillna(data['contest7'].median(), inplace=True)\n",
    "data['contest8'].fillna(data['contest8'].median(), inplace=True)\n",
    "data['contest9'].fillna(data['contest9'].median(), inplace=True)\n",
    "data['contest10'].fillna(data['contest10'].median(), inplace=True)"
   ]
  },
  {
   "cell_type": "code",
   "execution_count": 121,
   "id": "4eb9e27d-03d5-4a0d-9f12-d1ceb6e871d0",
   "metadata": {},
   "outputs": [
    {
     "data": {
      "text/plain": [
       "userid       0\n",
       "rank-type    0\n",
       "contest1     0\n",
       "contest2     0\n",
       "contest3     0\n",
       "contest4     0\n",
       "contest5     0\n",
       "contest6     0\n",
       "contest7     0\n",
       "contest8     0\n",
       "contest9     0\n",
       "contest10    0\n",
       "dtype: int64"
      ]
     },
     "execution_count": 121,
     "metadata": {},
     "output_type": "execute_result"
    }
   ],
   "source": [
    "data.isnull().sum()"
   ]
  },
  {
   "cell_type": "code",
   "execution_count": null,
   "id": "1c9c0a7b-8b6f-46c2-b69a-fc688356bfaa",
   "metadata": {},
   "outputs": [],
   "source": []
  }
 ],
 "metadata": {
  "kernelspec": {
   "display_name": "Python 3 (ipykernel)",
   "language": "python",
   "name": "python3"
  },
  "language_info": {
   "codemirror_mode": {
    "name": "ipython",
    "version": 3
   },
   "file_extension": ".py",
   "mimetype": "text/x-python",
   "name": "python",
   "nbconvert_exporter": "python",
   "pygments_lexer": "ipython3",
   "version": "3.11.7"
  }
 },
 "nbformat": 4,
 "nbformat_minor": 5
}
