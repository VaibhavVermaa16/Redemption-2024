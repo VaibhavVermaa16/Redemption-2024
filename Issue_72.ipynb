{
 "cells": [
  {
   "cell_type": "code",
   "execution_count": 1,
   "id": "35a95226-69a8-41c9-8369-959bbc3e899a",
   "metadata": {},
   "outputs": [],
   "source": [
    "import numpy as np\n",
    "import pandas as pd\n",
    "import matplotlib.pyplot as plt \n",
    "import seaborn as sns"
   ]
  },
  {
   "cell_type": "code",
   "execution_count": 9,
   "id": "6a44b11a-814f-4120-a5f6-d6be27d586f5",
   "metadata": {},
   "outputs": [],
   "source": [
    "data = pd.read_csv('Student_Performance.csv')"
   ]
  },
  {
   "cell_type": "code",
   "execution_count": 10,
   "id": "2cdf419a-3592-4e5a-971e-676557a979e2",
   "metadata": {},
   "outputs": [
    {
     "data": {
      "text/html": [
       "<div>\n",
       "<style scoped>\n",
       "    .dataframe tbody tr th:only-of-type {\n",
       "        vertical-align: middle;\n",
       "    }\n",
       "\n",
       "    .dataframe tbody tr th {\n",
       "        vertical-align: top;\n",
       "    }\n",
       "\n",
       "    .dataframe thead th {\n",
       "        text-align: right;\n",
       "    }\n",
       "</style>\n",
       "<table border=\"1\" class=\"dataframe\">\n",
       "  <thead>\n",
       "    <tr style=\"text-align: right;\">\n",
       "      <th></th>\n",
       "      <th>Hours Studied</th>\n",
       "      <th>Previous Scores</th>\n",
       "      <th>Extracurricular Activities</th>\n",
       "      <th>Sleep Hours</th>\n",
       "      <th>Sample Question Papers Practiced</th>\n",
       "      <th>Performance Index</th>\n",
       "    </tr>\n",
       "  </thead>\n",
       "  <tbody>\n",
       "    <tr>\n",
       "      <th>0</th>\n",
       "      <td>7</td>\n",
       "      <td>99</td>\n",
       "      <td>Yes</td>\n",
       "      <td>9</td>\n",
       "      <td>1</td>\n",
       "      <td>91.0</td>\n",
       "    </tr>\n",
       "    <tr>\n",
       "      <th>1</th>\n",
       "      <td>4</td>\n",
       "      <td>82</td>\n",
       "      <td>No</td>\n",
       "      <td>4</td>\n",
       "      <td>2</td>\n",
       "      <td>65.0</td>\n",
       "    </tr>\n",
       "    <tr>\n",
       "      <th>2</th>\n",
       "      <td>8</td>\n",
       "      <td>51</td>\n",
       "      <td>Yes</td>\n",
       "      <td>7</td>\n",
       "      <td>2</td>\n",
       "      <td>45.0</td>\n",
       "    </tr>\n",
       "    <tr>\n",
       "      <th>3</th>\n",
       "      <td>5</td>\n",
       "      <td>52</td>\n",
       "      <td>Yes</td>\n",
       "      <td>5</td>\n",
       "      <td>2</td>\n",
       "      <td>36.0</td>\n",
       "    </tr>\n",
       "    <tr>\n",
       "      <th>4</th>\n",
       "      <td>7</td>\n",
       "      <td>75</td>\n",
       "      <td>No</td>\n",
       "      <td>8</td>\n",
       "      <td>5</td>\n",
       "      <td>66.0</td>\n",
       "    </tr>\n",
       "  </tbody>\n",
       "</table>\n",
       "</div>"
      ],
      "text/plain": [
       "   Hours Studied  Previous Scores Extracurricular Activities  Sleep Hours  \\\n",
       "0              7               99                        Yes            9   \n",
       "1              4               82                         No            4   \n",
       "2              8               51                        Yes            7   \n",
       "3              5               52                        Yes            5   \n",
       "4              7               75                         No            8   \n",
       "\n",
       "   Sample Question Papers Practiced  Performance Index  \n",
       "0                                 1               91.0  \n",
       "1                                 2               65.0  \n",
       "2                                 2               45.0  \n",
       "3                                 2               36.0  \n",
       "4                                 5               66.0  "
      ]
     },
     "execution_count": 10,
     "metadata": {},
     "output_type": "execute_result"
    }
   ],
   "source": [
    "data.head()"
   ]
  },
  {
   "cell_type": "code",
   "execution_count": 11,
   "id": "0a8f9616-32ab-4733-b359-d7e751087583",
   "metadata": {},
   "outputs": [],
   "source": [
    "data_encoded = pd.get_dummies(data, columns=['Extracurricular Activities'],drop_first=True, dtype=int)"
   ]
  },
  {
   "cell_type": "code",
   "execution_count": 12,
   "id": "588c8929-7edd-4ea0-8a49-a4679ba8d653",
   "metadata": {},
   "outputs": [
    {
     "data": {
      "text/html": [
       "<div>\n",
       "<style scoped>\n",
       "    .dataframe tbody tr th:only-of-type {\n",
       "        vertical-align: middle;\n",
       "    }\n",
       "\n",
       "    .dataframe tbody tr th {\n",
       "        vertical-align: top;\n",
       "    }\n",
       "\n",
       "    .dataframe thead th {\n",
       "        text-align: right;\n",
       "    }\n",
       "</style>\n",
       "<table border=\"1\" class=\"dataframe\">\n",
       "  <thead>\n",
       "    <tr style=\"text-align: right;\">\n",
       "      <th></th>\n",
       "      <th>Hours Studied</th>\n",
       "      <th>Previous Scores</th>\n",
       "      <th>Sleep Hours</th>\n",
       "      <th>Sample Question Papers Practiced</th>\n",
       "      <th>Performance Index</th>\n",
       "      <th>Extracurricular Activities_Yes</th>\n",
       "    </tr>\n",
       "  </thead>\n",
       "  <tbody>\n",
       "    <tr>\n",
       "      <th>0</th>\n",
       "      <td>7</td>\n",
       "      <td>99</td>\n",
       "      <td>9</td>\n",
       "      <td>1</td>\n",
       "      <td>91.0</td>\n",
       "      <td>1</td>\n",
       "    </tr>\n",
       "    <tr>\n",
       "      <th>1</th>\n",
       "      <td>4</td>\n",
       "      <td>82</td>\n",
       "      <td>4</td>\n",
       "      <td>2</td>\n",
       "      <td>65.0</td>\n",
       "      <td>0</td>\n",
       "    </tr>\n",
       "    <tr>\n",
       "      <th>2</th>\n",
       "      <td>8</td>\n",
       "      <td>51</td>\n",
       "      <td>7</td>\n",
       "      <td>2</td>\n",
       "      <td>45.0</td>\n",
       "      <td>1</td>\n",
       "    </tr>\n",
       "    <tr>\n",
       "      <th>3</th>\n",
       "      <td>5</td>\n",
       "      <td>52</td>\n",
       "      <td>5</td>\n",
       "      <td>2</td>\n",
       "      <td>36.0</td>\n",
       "      <td>1</td>\n",
       "    </tr>\n",
       "    <tr>\n",
       "      <th>4</th>\n",
       "      <td>7</td>\n",
       "      <td>75</td>\n",
       "      <td>8</td>\n",
       "      <td>5</td>\n",
       "      <td>66.0</td>\n",
       "      <td>0</td>\n",
       "    </tr>\n",
       "  </tbody>\n",
       "</table>\n",
       "</div>"
      ],
      "text/plain": [
       "   Hours Studied  Previous Scores  Sleep Hours  \\\n",
       "0              7               99            9   \n",
       "1              4               82            4   \n",
       "2              8               51            7   \n",
       "3              5               52            5   \n",
       "4              7               75            8   \n",
       "\n",
       "   Sample Question Papers Practiced  Performance Index  \\\n",
       "0                                 1               91.0   \n",
       "1                                 2               65.0   \n",
       "2                                 2               45.0   \n",
       "3                                 2               36.0   \n",
       "4                                 5               66.0   \n",
       "\n",
       "   Extracurricular Activities_Yes  \n",
       "0                               1  \n",
       "1                               0  \n",
       "2                               1  \n",
       "3                               1  \n",
       "4                               0  "
      ]
     },
     "execution_count": 12,
     "metadata": {},
     "output_type": "execute_result"
    }
   ],
   "source": [
    "data_encoded.head()"
   ]
  },
  {
   "cell_type": "code",
   "execution_count": 16,
   "id": "9a9cf736-387d-4d57-b060-6eae0a4069ec",
   "metadata": {},
   "outputs": [
    {
     "name": "stdout",
     "output_type": "stream",
     "text": [
      "<class 'pandas.core.frame.DataFrame'>\n",
      "RangeIndex: 10000 entries, 0 to 9999\n",
      "Data columns (total 5 columns):\n",
      " #   Column                            Non-Null Count  Dtype  \n",
      "---  ------                            --------------  -----  \n",
      " 0   Hours Studied                     10000 non-null  int64  \n",
      " 1   Previous Scores                   10000 non-null  int64  \n",
      " 2   Sleep Hours                       10000 non-null  int64  \n",
      " 3   Sample Question Papers Practiced  10000 non-null  int64  \n",
      " 4   Performance Index                 10000 non-null  float64\n",
      "dtypes: float64(1), int64(4)\n",
      "memory usage: 390.8 KB\n"
     ]
    }
   ],
   "source": [
    "data.info()"
   ]
  },
  {
   "cell_type": "code",
   "execution_count": 15,
   "id": "1a62ea1e-4dd7-4a69-a53e-77887c2abb41",
   "metadata": {},
   "outputs": [],
   "source": [
    "data.drop('Extracurricular Activities', axis=1, inplace=True)"
   ]
  },
  {
   "cell_type": "code",
   "execution_count": 17,
   "id": "d13a9f66-0978-4019-8309-a6c2868e9f95",
   "metadata": {},
   "outputs": [
    {
     "data": {
      "text/plain": [
       "<Axes: >"
      ]
     },
     "execution_count": 17,
     "metadata": {},
     "output_type": "execute_result"
    },
    {
     "data": {
      "image/png": "[encoded data removed]",
      "text/plain": [
       "<Figure size 640x480 with 2 Axes>"
      ]
     },
     "metadata": {},
     "output_type": "display_data"
    }
   ],
   "source": [
    "sns.heatmap(data.corr())"
   ]
  },
  {
   "cell_type": "code",
   "execution_count": 21,
   "id": "ef7fd722-9501-4ad1-bc0b-4cfec0f68eae",
   "metadata": {},
   "outputs": [],
   "source": [
    "##From above heat map we found that Performance is highly dependent on Previous score, also it depends on Hours Studied\n",
    "##and lest dependent on Sleep Hours and Sample Question Papers Practiced"
   ]
  },
  {
   "cell_type": "code",
   "execution_count": 22,
   "id": "9e4222f3-bde5-471b-82f0-b02584949772",
   "metadata": {},
   "outputs": [
    {
     "data": {
      "text/html": [
       "<div>\n",
       "<style scoped>\n",
       "    .dataframe tbody tr th:only-of-type {\n",
       "        vertical-align: middle;\n",
       "    }\n",
       "\n",
       "    .dataframe tbody tr th {\n",
       "        vertical-align: top;\n",
       "    }\n",
       "\n",
       "    .dataframe thead th {\n",
       "        text-align: right;\n",
       "    }\n",
       "</style>\n",
       "<table border=\"1\" class=\"dataframe\">\n",
       "  <thead>\n",
       "    <tr style=\"text-align: right;\">\n",
       "      <th></th>\n",
       "      <th>Hours Studied</th>\n",
       "      <th>Previous Scores</th>\n",
       "      <th>Sleep Hours</th>\n",
       "      <th>Sample Question Papers Practiced</th>\n",
       "      <th>Performance Index</th>\n",
       "    </tr>\n",
       "  </thead>\n",
       "  <tbody>\n",
       "    <tr>\n",
       "      <th>Hours Studied</th>\n",
       "      <td>1.000000</td>\n",
       "      <td>-0.012390</td>\n",
       "      <td>0.001245</td>\n",
       "      <td>0.017463</td>\n",
       "      <td>0.373730</td>\n",
       "    </tr>\n",
       "    <tr>\n",
       "      <th>Previous Scores</th>\n",
       "      <td>-0.012390</td>\n",
       "      <td>1.000000</td>\n",
       "      <td>0.005944</td>\n",
       "      <td>0.007888</td>\n",
       "      <td>0.915189</td>\n",
       "    </tr>\n",
       "    <tr>\n",
       "      <th>Sleep Hours</th>\n",
       "      <td>0.001245</td>\n",
       "      <td>0.005944</td>\n",
       "      <td>1.000000</td>\n",
       "      <td>0.003990</td>\n",
       "      <td>0.048106</td>\n",
       "    </tr>\n",
       "    <tr>\n",
       "      <th>Sample Question Papers Practiced</th>\n",
       "      <td>0.017463</td>\n",
       "      <td>0.007888</td>\n",
       "      <td>0.003990</td>\n",
       "      <td>1.000000</td>\n",
       "      <td>0.043268</td>\n",
       "    </tr>\n",
       "    <tr>\n",
       "      <th>Performance Index</th>\n",
       "      <td>0.373730</td>\n",
       "      <td>0.915189</td>\n",
       "      <td>0.048106</td>\n",
       "      <td>0.043268</td>\n",
       "      <td>1.000000</td>\n",
       "    </tr>\n",
       "  </tbody>\n",
       "</table>\n",
       "</div>"
      ],
      "text/plain": [
       "                                  Hours Studied  Previous Scores  Sleep Hours  \\\n",
       "Hours Studied                          1.000000        -0.012390     0.001245   \n",
       "Previous Scores                       -0.012390         1.000000     0.005944   \n",
       "Sleep Hours                            0.001245         0.005944     1.000000   \n",
       "Sample Question Papers Practiced       0.017463         0.007888     0.003990   \n",
       "Performance Index                      0.373730         0.915189     0.048106   \n",
       "\n",
       "                                  Sample Question Papers Practiced  \\\n",
       "Hours Studied                                             0.017463   \n",
       "Previous Scores                                           0.007888   \n",
       "Sleep Hours                                               0.003990   \n",
       "Sample Question Papers Practiced                          1.000000   \n",
       "Performance Index                                         0.043268   \n",
       "\n",
       "                                  Performance Index  \n",
       "Hours Studied                              0.373730  \n",
       "Previous Scores                            0.915189  \n",
       "Sleep Hours                                0.048106  \n",
       "Sample Question Papers Practiced           0.043268  \n",
       "Performance Index                          1.000000  "
      ]
     },
     "execution_count": 22,
     "metadata": {},
     "output_type": "execute_result"
    }
   ],
   "source": [
    "matrix = data.corr()\n",
    "matrix"
   ]
  },
  {
   "cell_type": "code",
   "execution_count": null,
   "id": "4783d62e-1614-4d39-a6c6-efac02fafa6e",
   "metadata": {},
   "outputs": [],
   "source": []
  }
 ],
 "metadata": {
  "kernelspec": {
   "display_name": "Python 3 (ipykernel)",
   "language": "python",
   "name": "python3"
  },
  "language_info": {
   "codemirror_mode": {
    "name": "ipython",
    "version": 3
   },
   "file_extension": ".py",
   "mimetype": "text/x-python",
   "name": "python",
   "nbconvert_exporter": "python",
   "pygments_lexer": "ipython3",
   "version": "3.11.7"
  }
 },
 "nbformat": 4,
 "nbformat_minor": 5
}
