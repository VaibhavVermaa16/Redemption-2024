{
  "nbformat": 4,
  "nbformat_minor": 0,
  "metadata": {
    "colab": {
      "provenance": [],
      "toc_visible": true,
      "authorship_tag": "ABX9TyPbj9dMyKDDnfvdF1yXSBl8",
      "include_colab_link": true
    },
    "kernelspec": {
      "name": "python3",
      "display_name": "Python 3"
    },
    "language_info": {
      "name": "python"
    }
  },
  "cells": [
    {
      "cell_type": "markdown",
      "metadata": {
        "id": "view-in-github",
        "colab_type": "text"
      },
      "source": [
        "<a href=\"https://colab.research.google.com/github/yaaghnetha09/Redemption-2024/blob/redemption_9/pipeline.ipynb\" target=\"_parent\"><img src=\"https://colab.research.google.com/assets/colab-badge.svg\" alt=\"Open In Colab\"/></a>"
      ]
    },
    {
      "cell_type": "markdown",
      "source": [
        "# New Section"
      ],
      "metadata": {
        "id": "ICvaGGK65j1Q"
      }
    },
    {
      "cell_type": "code",
      "source": [
        "import pandas as pd\n",
        "from sklearn.preprocessing import OneHotEncoder, StandardScaler\n",
        "from sklearn.compose import ColumnTransformer\n",
        "from sklearn.impute import SimpleImputer\n",
        "\n",
        "from sklearn.pipeline import Pipeline"
      ],
      "metadata": {
        "id": "lD52OqRc5kWy"
      },
      "execution_count": 3,
      "outputs": []
    },
    {
      "cell_type": "code",
      "source": [
        "def pipeline():\n",
        "  #used simpleimputer to handle mssing values\n",
        "  #encoded the categorical, and ordinal values uisng onehotencoder\n",
        "    num = ['vote_average','popularity','vote_count']\n",
        "    categorical= ['title']\n",
        "    ordinal= ['overview','video','release_date']\n",
        "\n",
        "    preprocessor = ColumnTransformer(transformers=[\n",
        "        ('num', pipeline(steps=[\n",
        "            ('imputer', simpleimputer(strategy='mean')),\n",
        "        ]), num),\n",
        "        ('cat', pipeline(steps=[\n",
        "            ('imputer', simpleimputer(strategy='constant', fill_value='missing')),\n",
        "            ('encoder', OneHotencoder(handle_unknown='ignore'))\n",
        "        ]), categorical),\n",
        "        ('ord', pipeline(steps=[\n",
        "            ('imputer', simpleimputer(strategy='constant', fill_value='missing')),\n",
        "            ('encoder', OneHotencoder(handle_unknown='ignore'))\n",
        "        ]), ordinal)\n",
        "    ])\n",
        "\n",
        "    return preprocessor\n",
        "\n",
        "    #P.S: I don't know how to export functions, as far as I know this code is good to my knowledge"
      ],
      "metadata": {
        "id": "vK5r4uhT6zkh"
      },
      "execution_count": 4,
      "outputs": []
    }
  ]
}